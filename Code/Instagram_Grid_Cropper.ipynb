{
  "nbformat": 4,
  "nbformat_minor": 0,
  "metadata": {
    "colab": {
      "provenance": [],
      "toc_visible": true,
      "authorship_tag": "ABX9TyMO0tV3auhvA05/pKxPhWSL",
      "include_colab_link": true
    },
    "kernelspec": {
      "name": "python3",
      "display_name": "Python 3"
    },
    "language_info": {
      "name": "python"
    }
  },
  "cells": [
    {
      "cell_type": "markdown",
      "metadata": {
        "id": "view-in-github",
        "colab_type": "text"
      },
      "source": [
        "<a href=\"https://colab.research.google.com/github/mabdulghofur142/Instagram-Grid-Cropper/blob/main/Code/Instagram_Grid_Cropper.ipynb\" target=\"_parent\"><img src=\"https://colab.research.google.com/assets/colab-badge.svg\" alt=\"Open In Colab\"/></a>"
      ]
    },
    {
      "cell_type": "markdown",
      "source": [
        "# Instagram Grid Cropper"
      ],
      "metadata": {
        "id": "72E3cnM89Ybi"
      }
    },
    {
      "cell_type": "markdown",
      "source": [
        "## Modul yang dibutuhkan"
      ],
      "metadata": {
        "id": "xOomffIj9zK5"
      }
    },
    {
      "cell_type": "code",
      "source": [
        "from PIL import Image\n",
        "import io\n",
        "import zipfile\n",
        "from fractions import Fraction\n",
        "import math"
      ],
      "metadata": {
        "id": "J0A2fCYm94BB"
      },
      "execution_count": null,
      "outputs": []
    },
    {
      "cell_type": "markdown",
      "source": [
        "## Code"
      ],
      "metadata": {
        "id": "bnjP_B8R9wMZ"
      }
    },
    {
      "cell_type": "code",
      "execution_count": null,
      "metadata": {
        "id": "bSPT1nZBAmOL"
      },
      "outputs": [],
      "source": [
        "def place_on_frame(image, frame_size=(2400, 3000), position=0, round=0, frame=None):\n",
        "    if round == 0 or frame is None:\n",
        "        frame = Image.new(\"RGB\", frame_size, (0, 0, 0))\n",
        "    img_width, img_height = image.size\n",
        "\n",
        "    if position == 1:\n",
        "        x_offset = frame_size[0] - img_width\n",
        "    elif position == -1:\n",
        "        x_offset = 0\n",
        "    else:  # center\n",
        "        x_offset = (frame_size[0] - img_width) // 2\n",
        "\n",
        "    y_offset = (frame_size[1] - img_height) // 2\n",
        "    frame.paste(image, (x_offset, y_offset))\n",
        "    return frame\n",
        "\n",
        "def labelling(rows, length):\n",
        "    my_map = {}\n",
        "    for i in range(length):\n",
        "        row_image = (i % rows) + 1\n",
        "        col_image = (i // rows) +1\n",
        "        my_map[i] = str(row_image)+\"_\"+str(col_image)\n",
        "    return my_map\n",
        "\n",
        "def process_image(input_path, coloms=3, rows=1, output_zip_path='cropped_images.zip', format_upload_feed = \"4/5\", format_preview = \"3/4\"):\n",
        "    img = Image.open(input_path)\n",
        "    width, height = img.size\n",
        "\n",
        "    pecahan = Fraction(width, height)\n",
        "    pecahan2 = Fraction(coloms*3, rows*4)\n",
        "    print(f\"Is the ratio already in accordance with the Instagram preview format? {pecahan == pecahan2}\")\n",
        "\n",
        "    gap_image = Fraction(format_upload_feed)-Fraction(format_preview)\n",
        "\n",
        "    crop_width, crop_height = width // coloms, height // rows\n",
        "\n",
        "    cropped_images = []\n",
        "\n",
        "    if coloms == 2:\n",
        "        cols = [0,2]\n",
        "    elif coloms == 1:\n",
        "        cols = [0]\n",
        "    elif coloms == 3:\n",
        "        cols = range(coloms)\n",
        "\n",
        "    for col in cols:\n",
        "        if col == 0:\n",
        "            left = col * crop_width\n",
        "            right = left + crop_width + math.ceil((gap_image/rows/2) * height)\n",
        "            position = 1\n",
        "            if coloms == 1:\n",
        "                position = 0\n",
        "        elif col == 1:\n",
        "            left1 = col * crop_width\n",
        "            left = left1 - int((gap_image/rows/2) * height)\n",
        "            right = left1 + crop_width + math.ceil((gap_image/rows/2) * height)\n",
        "            position = 0\n",
        "        elif col == 2:\n",
        "            left1 = col * crop_width\n",
        "            left = left1 - int((gap_image/rows/2) * height)\n",
        "            right = left1 + crop_width\n",
        "            position = -1\n",
        "\n",
        "        left, right = max(0, left), min(width, right)\n",
        "        upper, lower = 0, height\n",
        "        frame_size = (crop_width + (int((gap_image/rows) * height)), height)\n",
        "        cropped = img.crop((left, upper, right, lower))\n",
        "        framed_cropped = place_on_frame(cropped, frame_size=frame_size, position=position)\n",
        "        if col == 0 or col == 2 or cols == [0]:\n",
        "            if cols == [0]:\n",
        "                col = [0,2]\n",
        "                position = 1\n",
        "            else:\n",
        "                col = [col]\n",
        "\n",
        "            flipped = cropped.transpose(Image.FLIP_LEFT_RIGHT)\n",
        "            flipped_width, flipped_height = flipped.size\n",
        "\n",
        "            for i in col:\n",
        "                position=-position\n",
        "                if i == 0:\n",
        "                    left = flipped_width - math.ceil((gap_image/rows/2) * flipped_height)\n",
        "                    right = flipped_width\n",
        "                else:\n",
        "                    left = 0\n",
        "                    right = math.ceil((gap_image/rows/2) * flipped_height)\n",
        "\n",
        "                left, right = max(0, left), min(width, right)\n",
        "\n",
        "                flipped_cropped = flipped.crop((left, 0, right, flipped_height))\n",
        "                framed_cropped = place_on_frame(flipped_cropped, frame_size=frame_size, position=position, round=1, frame=framed_cropped)\n",
        "        # display(framed_cropped)\n",
        "        if rows > 1:\n",
        "            w, h = framed_cropped.size\n",
        "            list_image = []\n",
        "            for row in range(rows):\n",
        "                framed_cropped_new = framed_cropped.crop((0, row * crop_height, w, (row + 1) * crop_height))\n",
        "                list_image.append(framed_cropped_new)\n",
        "            cropped_images = cropped_images + list_image\n",
        "\n",
        "        if rows == 1:\n",
        "            cropped_images.append(framed_cropped)\n",
        "\n",
        "    my_label = labelling(rows, len(cropped_images))\n",
        "    # Simpan ke file ZIP\n",
        "    with zipfile.ZipFile(output_zip_path, 'w', zipfile.ZIP_DEFLATED) as zip_file:\n",
        "        for i, img in enumerate(cropped_images):\n",
        "            img_bytes = io.BytesIO()\n",
        "            img.save(img_bytes, format='JPEG')\n",
        "            zip_file.writestr(f'cropped_{my_label[i]}.jpg', img_bytes.getvalue())\n",
        "\n",
        "    print(f\"ZIP file has been successfully created: {output_zip_path}\")\n"
      ]
    },
    {
      "cell_type": "markdown",
      "source": [
        "# Testing"
      ],
      "metadata": {
        "id": "DPGShaTRRynI"
      }
    },
    {
      "cell_type": "markdown",
      "source": [
        "Testing using Data Image from my github: https://github.com/mabdulghofur142/Instagram-Grid-Cropper/tree/main/Image"
      ],
      "metadata": {
        "id": "XidXvMe1ZMtT"
      }
    },
    {
      "cell_type": "markdown",
      "source": [
        "## Test 1x3\n"
      ],
      "metadata": {
        "id": "2FPk9x7v-V4y"
      }
    },
    {
      "cell_type": "code",
      "source": [
        "if __name__ == '__main__':\n",
        "    input_image_path = '/content/example 1x3 (3375 x 1500 piksel).png' # image path\n",
        "    output_zip_name = 'cropped example 1x3.zip' # zip name\n",
        "    coloms = 3\n",
        "    rows = 1\n",
        "    process_image(\n",
        "        input_path=input_image_path,\n",
        "        coloms=coloms,\n",
        "        rows=rows,\n",
        "        output_zip_path=output_zip_name,\n",
        "        format_upload_feed=\"4/5\",     # Target rasio carousel Instagram\n",
        "        format_preview=\"3/4\"    # Rasio asli gambar\n",
        "    )\n"
      ],
      "metadata": {
        "colab": {
          "base_uri": "https://localhost:8080/"
        },
        "id": "fHBlO0KZ5446",
        "outputId": "2fbc35a3-d1e8-4cdb-d5f1-e2d93467962f"
      },
      "execution_count": null,
      "outputs": [
        {
          "output_type": "stream",
          "name": "stdout",
          "text": [
            "Is the ratio already in accordance with the Instagram preview format? True\n",
            "ZIP file has been successfully created: cropped example 1x3.zip\n"
          ]
        }
      ]
    },
    {
      "cell_type": "code",
      "source": [
        "from google.colab import files\n",
        "files.download(output_zip_name)\n"
      ],
      "metadata": {
        "colab": {
          "base_uri": "https://localhost:8080/",
          "height": 17
        },
        "id": "kvrRfdvyTtl-",
        "outputId": "4f5c32e3-ceaf-479a-a852-63c2ad0dd2ca"
      },
      "execution_count": null,
      "outputs": [
        {
          "output_type": "display_data",
          "data": {
            "text/plain": [
              "<IPython.core.display.Javascript object>"
            ],
            "application/javascript": [
              "\n",
              "    async function download(id, filename, size) {\n",
              "      if (!google.colab.kernel.accessAllowed) {\n",
              "        return;\n",
              "      }\n",
              "      const div = document.createElement('div');\n",
              "      const label = document.createElement('label');\n",
              "      label.textContent = `Downloading \"${filename}\": `;\n",
              "      div.appendChild(label);\n",
              "      const progress = document.createElement('progress');\n",
              "      progress.max = size;\n",
              "      div.appendChild(progress);\n",
              "      document.body.appendChild(div);\n",
              "\n",
              "      const buffers = [];\n",
              "      let downloaded = 0;\n",
              "\n",
              "      const channel = await google.colab.kernel.comms.open(id);\n",
              "      // Send a message to notify the kernel that we're ready.\n",
              "      channel.send({})\n",
              "\n",
              "      for await (const message of channel.messages) {\n",
              "        // Send a message to notify the kernel that we're ready.\n",
              "        channel.send({})\n",
              "        if (message.buffers) {\n",
              "          for (const buffer of message.buffers) {\n",
              "            buffers.push(buffer);\n",
              "            downloaded += buffer.byteLength;\n",
              "            progress.value = downloaded;\n",
              "          }\n",
              "        }\n",
              "      }\n",
              "      const blob = new Blob(buffers, {type: 'application/binary'});\n",
              "      const a = document.createElement('a');\n",
              "      a.href = window.URL.createObjectURL(blob);\n",
              "      a.download = filename;\n",
              "      div.appendChild(a);\n",
              "      a.click();\n",
              "      div.remove();\n",
              "    }\n",
              "  "
            ]
          },
          "metadata": {}
        },
        {
          "output_type": "display_data",
          "data": {
            "text/plain": [
              "<IPython.core.display.Javascript object>"
            ],
            "application/javascript": [
              "download(\"download_ab5fa3a9-5cf3-435a-a3b4-d4eee8a3ffb7\", \"cropped example 1x3.zip\", 18629)"
            ]
          },
          "metadata": {}
        }
      ]
    },
    {
      "cell_type": "markdown",
      "source": [
        "## Test 2x3\n"
      ],
      "metadata": {
        "id": "qmkdSGZ8L6rq"
      }
    },
    {
      "cell_type": "code",
      "source": [
        "if __name__ == '__main__':\n",
        "    input_image_path = '/content/example 2x3 (3375x3000).png'\n",
        "    output_zip_name_2 = 'cropped example 2x3.zip'\n",
        "    coloms = 3\n",
        "    rows = 2\n",
        "    process_image(\n",
        "        input_path=input_image_path,\n",
        "        coloms=coloms,\n",
        "        rows=rows,\n",
        "        output_zip_path=output_zip_name_2,\n",
        "        format_upload_feed=\"4/5\",     # Target rasio carousel Instagram\n",
        "        format_preview=\"3/4\"    # Rasio asli gambar\n",
        "    )\n"
      ],
      "metadata": {
        "colab": {
          "base_uri": "https://localhost:8080/"
        },
        "outputId": "0f78dc71-c026-42e7-a50a-1d153e6ee36c",
        "id": "mnQi4e4UL6rr"
      },
      "execution_count": null,
      "outputs": [
        {
          "output_type": "stream",
          "name": "stdout",
          "text": [
            "Is the ratio already in accordance with the Instagram preview format? True\n",
            "ZIP file has been successfully created: cropped example 2x3.zip\n"
          ]
        }
      ]
    },
    {
      "cell_type": "code",
      "source": [
        "from google.colab import files\n",
        "files.download(output_zip_name_2)\n"
      ],
      "metadata": {
        "colab": {
          "base_uri": "https://localhost:8080/",
          "height": 17
        },
        "outputId": "8e267109-a9ea-47c0-e14a-5e22931c3478",
        "id": "3SmMmW0lL6rr"
      },
      "execution_count": null,
      "outputs": [
        {
          "output_type": "display_data",
          "data": {
            "text/plain": [
              "<IPython.core.display.Javascript object>"
            ],
            "application/javascript": [
              "\n",
              "    async function download(id, filename, size) {\n",
              "      if (!google.colab.kernel.accessAllowed) {\n",
              "        return;\n",
              "      }\n",
              "      const div = document.createElement('div');\n",
              "      const label = document.createElement('label');\n",
              "      label.textContent = `Downloading \"${filename}\": `;\n",
              "      div.appendChild(label);\n",
              "      const progress = document.createElement('progress');\n",
              "      progress.max = size;\n",
              "      div.appendChild(progress);\n",
              "      document.body.appendChild(div);\n",
              "\n",
              "      const buffers = [];\n",
              "      let downloaded = 0;\n",
              "\n",
              "      const channel = await google.colab.kernel.comms.open(id);\n",
              "      // Send a message to notify the kernel that we're ready.\n",
              "      channel.send({})\n",
              "\n",
              "      for await (const message of channel.messages) {\n",
              "        // Send a message to notify the kernel that we're ready.\n",
              "        channel.send({})\n",
              "        if (message.buffers) {\n",
              "          for (const buffer of message.buffers) {\n",
              "            buffers.push(buffer);\n",
              "            downloaded += buffer.byteLength;\n",
              "            progress.value = downloaded;\n",
              "          }\n",
              "        }\n",
              "      }\n",
              "      const blob = new Blob(buffers, {type: 'application/binary'});\n",
              "      const a = document.createElement('a');\n",
              "      a.href = window.URL.createObjectURL(blob);\n",
              "      a.download = filename;\n",
              "      div.appendChild(a);\n",
              "      a.click();\n",
              "      div.remove();\n",
              "    }\n",
              "  "
            ]
          },
          "metadata": {}
        },
        {
          "output_type": "display_data",
          "data": {
            "text/plain": [
              "<IPython.core.display.Javascript object>"
            ],
            "application/javascript": [
              "download(\"download_c779a1ef-ecdf-46bf-8174-64f0925c32ef\", \"cropped example 2x3.zip\", 415864)"
            ]
          },
          "metadata": {}
        }
      ]
    },
    {
      "cell_type": "markdown",
      "source": [
        "## Test 3x3\n"
      ],
      "metadata": {
        "id": "M2neU4CIL8ex"
      }
    },
    {
      "cell_type": "code",
      "source": [
        "if __name__ == '__main__':\n",
        "    input_image_path = '/content/example 3x3 (3375 x 4500 piksel).png'\n",
        "    output_zip_name_3 = 'cropped example 3x3.zip'\n",
        "    coloms = 3\n",
        "    rows = 3\n",
        "    process_image(\n",
        "        input_path=input_image_path,\n",
        "        coloms=coloms,\n",
        "        rows=rows,\n",
        "        output_zip_path=output_zip_name_3,\n",
        "        format_upload_feed=\"4/5\",     # Target rasio carousel Instagram\n",
        "        format_preview=\"3/4\"    # Rasio asli gambar\n",
        "    )\n"
      ],
      "metadata": {
        "colab": {
          "base_uri": "https://localhost:8080/"
        },
        "outputId": "48b963f1-6640-4dab-b437-afd0550ddd7c",
        "id": "TyPYCWFdL8ey"
      },
      "execution_count": null,
      "outputs": [
        {
          "output_type": "stream",
          "name": "stdout",
          "text": [
            "Is the ratio already in accordance with the Instagram preview format? True\n",
            "ZIP file has been successfully created: cropped example 3x3.zip\n"
          ]
        }
      ]
    },
    {
      "cell_type": "code",
      "source": [
        "from google.colab import files\n",
        "files.download(output_zip_name_3)\n"
      ],
      "metadata": {
        "colab": {
          "base_uri": "https://localhost:8080/",
          "height": 17
        },
        "outputId": "58d12708-2c6f-4254-ef56-7adc32be2874",
        "id": "o2HKeXbZL8ey"
      },
      "execution_count": null,
      "outputs": [
        {
          "output_type": "display_data",
          "data": {
            "text/plain": [
              "<IPython.core.display.Javascript object>"
            ],
            "application/javascript": [
              "\n",
              "    async function download(id, filename, size) {\n",
              "      if (!google.colab.kernel.accessAllowed) {\n",
              "        return;\n",
              "      }\n",
              "      const div = document.createElement('div');\n",
              "      const label = document.createElement('label');\n",
              "      label.textContent = `Downloading \"${filename}\": `;\n",
              "      div.appendChild(label);\n",
              "      const progress = document.createElement('progress');\n",
              "      progress.max = size;\n",
              "      div.appendChild(progress);\n",
              "      document.body.appendChild(div);\n",
              "\n",
              "      const buffers = [];\n",
              "      let downloaded = 0;\n",
              "\n",
              "      const channel = await google.colab.kernel.comms.open(id);\n",
              "      // Send a message to notify the kernel that we're ready.\n",
              "      channel.send({})\n",
              "\n",
              "      for await (const message of channel.messages) {\n",
              "        // Send a message to notify the kernel that we're ready.\n",
              "        channel.send({})\n",
              "        if (message.buffers) {\n",
              "          for (const buffer of message.buffers) {\n",
              "            buffers.push(buffer);\n",
              "            downloaded += buffer.byteLength;\n",
              "            progress.value = downloaded;\n",
              "          }\n",
              "        }\n",
              "      }\n",
              "      const blob = new Blob(buffers, {type: 'application/binary'});\n",
              "      const a = document.createElement('a');\n",
              "      a.href = window.URL.createObjectURL(blob);\n",
              "      a.download = filename;\n",
              "      div.appendChild(a);\n",
              "      a.click();\n",
              "      div.remove();\n",
              "    }\n",
              "  "
            ]
          },
          "metadata": {}
        },
        {
          "output_type": "display_data",
          "data": {
            "text/plain": [
              "<IPython.core.display.Javascript object>"
            ],
            "application/javascript": [
              "download(\"download_9cc29b9f-fd4c-483a-b3fd-2e103b20bad0\", \"cropped example 3x3.zip\", 599980)"
            ]
          },
          "metadata": {}
        }
      ]
    },
    {
      "cell_type": "code",
      "source": [],
      "metadata": {
        "id": "5dacS274Mxzz"
      },
      "execution_count": null,
      "outputs": []
    }
  ]
}